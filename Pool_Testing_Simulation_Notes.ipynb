{
  "nbformat": 4,
  "nbformat_minor": 0,
  "metadata": {
    "colab": {
      "name": "Pool Testing Simulation - Notes",
      "provenance": [],
      "collapsed_sections": [],
      "toc_visible": true
    },
    "kernelspec": {
      "name": "python3",
      "display_name": "Python 3"
    },
    "widgets": {
      "application/vnd.jupyter.widget-state+json": {
        "fa74f28e80224512982b942a77344fb9": {
          "model_module": "@jupyter-widgets/controls",
          "model_name": "VBoxModel",
          "state": {
            "_view_name": "VBoxView",
            "_dom_classes": [
              "widget-interact"
            ],
            "_model_name": "VBoxModel",
            "_view_module": "@jupyter-widgets/controls",
            "_model_module_version": "1.5.0",
            "_view_count": null,
            "_view_module_version": "1.5.0",
            "box_style": "",
            "layout": "IPY_MODEL_cf153b9b0ecf4bd79b691a9ba88d5150",
            "_model_module": "@jupyter-widgets/controls",
            "children": [
              "IPY_MODEL_4824774fa1254b54a0cb44fea52d95c8",
              "IPY_MODEL_744b32f2472d4520a10cc22387df0218",
              "IPY_MODEL_078570b2277041068544257193f403b3"
            ]
          }
        },
        "cf153b9b0ecf4bd79b691a9ba88d5150": {
          "model_module": "@jupyter-widgets/base",
          "model_name": "LayoutModel",
          "state": {
            "_view_name": "LayoutView",
            "grid_template_rows": null,
            "right": null,
            "justify_content": null,
            "_view_module": "@jupyter-widgets/base",
            "overflow": null,
            "_model_module_version": "1.2.0",
            "_view_count": null,
            "flex_flow": null,
            "width": null,
            "min_width": null,
            "border": null,
            "align_items": null,
            "bottom": null,
            "_model_module": "@jupyter-widgets/base",
            "top": null,
            "grid_column": null,
            "overflow_y": null,
            "overflow_x": null,
            "grid_auto_flow": null,
            "grid_area": null,
            "grid_template_columns": null,
            "flex": null,
            "_model_name": "LayoutModel",
            "justify_items": null,
            "grid_row": null,
            "max_height": null,
            "align_content": null,
            "visibility": null,
            "align_self": null,
            "height": null,
            "min_height": null,
            "padding": null,
            "grid_auto_rows": null,
            "grid_gap": null,
            "max_width": null,
            "order": null,
            "_view_module_version": "1.2.0",
            "grid_template_areas": null,
            "object_position": null,
            "object_fit": null,
            "grid_auto_columns": null,
            "margin": null,
            "display": null,
            "left": null
          }
        },
        "4824774fa1254b54a0cb44fea52d95c8": {
          "model_module": "@jupyter-widgets/controls",
          "model_name": "FloatSliderModel",
          "state": {
            "_view_name": "FloatSliderView",
            "style": "IPY_MODEL_e5d5eb1696034fccb5749d171fa986d3",
            "_dom_classes": [],
            "description": "prevalence",
            "step": 0.1,
            "_model_name": "FloatSliderModel",
            "orientation": "horizontal",
            "max": 40,
            "_view_module": "@jupyter-widgets/controls",
            "_model_module_version": "1.5.0",
            "value": 0.5,
            "_view_count": null,
            "disabled": false,
            "_view_module_version": "1.5.0",
            "min": 0,
            "continuous_update": true,
            "readout_format": ".2f",
            "description_tooltip": null,
            "readout": true,
            "_model_module": "@jupyter-widgets/controls",
            "layout": "IPY_MODEL_0d100fe5d5a3409e9e5447a260583c51"
          }
        },
        "744b32f2472d4520a10cc22387df0218": {
          "model_module": "@jupyter-widgets/controls",
          "model_name": "FloatSliderModel",
          "state": {
            "_view_name": "FloatSliderView",
            "style": "IPY_MODEL_6e4e0d5b8b5345b9b8c1119a1dde6c8b",
            "_dom_classes": [],
            "description": "sensitivity",
            "step": 0.1,
            "_model_name": "FloatSliderModel",
            "orientation": "horizontal",
            "max": 100,
            "_view_module": "@jupyter-widgets/controls",
            "_model_module_version": "1.5.0",
            "value": 70,
            "_view_count": null,
            "disabled": false,
            "_view_module_version": "1.5.0",
            "min": 0,
            "continuous_update": true,
            "readout_format": ".2f",
            "description_tooltip": null,
            "readout": true,
            "_model_module": "@jupyter-widgets/controls",
            "layout": "IPY_MODEL_2435bcf50efb4c5cb8a91fcd53598dfa"
          }
        },
        "078570b2277041068544257193f403b3": {
          "model_module": "@jupyter-widgets/output",
          "model_name": "OutputModel",
          "state": {
            "_view_name": "OutputView",
            "msg_id": "",
            "_dom_classes": [],
            "_model_name": "OutputModel",
            "outputs": [
              {
                "output_type": "stream",
                "metadata": {
                  "tags": []
                },
                "text": "ko = 18.0\n",
                "stream": "stdout"
              },
              {
                "output_type": "display_data",
                "metadata": {
                  "tags": [],
                  "needs_background": "light"
                },
                "image/png": "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\n",
                "text/plain": "<Figure size 432x288 with 1 Axes>"
              }
            ],
            "_view_module": "@jupyter-widgets/output",
            "_model_module_version": "1.0.0",
            "_view_count": null,
            "_view_module_version": "1.0.0",
            "layout": "IPY_MODEL_ffb95ab85e0347b3ac61d5121ee8c1ae",
            "_model_module": "@jupyter-widgets/output"
          }
        },
        "e5d5eb1696034fccb5749d171fa986d3": {
          "model_module": "@jupyter-widgets/controls",
          "model_name": "SliderStyleModel",
          "state": {
            "_view_name": "StyleView",
            "handle_color": null,
            "_model_name": "SliderStyleModel",
            "description_width": "",
            "_view_module": "@jupyter-widgets/base",
            "_model_module_version": "1.5.0",
            "_view_count": null,
            "_view_module_version": "1.2.0",
            "_model_module": "@jupyter-widgets/controls"
          }
        },
        "0d100fe5d5a3409e9e5447a260583c51": {
          "model_module": "@jupyter-widgets/base",
          "model_name": "LayoutModel",
          "state": {
            "_view_name": "LayoutView",
            "grid_template_rows": null,
            "right": null,
            "justify_content": null,
            "_view_module": "@jupyter-widgets/base",
            "overflow": null,
            "_model_module_version": "1.2.0",
            "_view_count": null,
            "flex_flow": null,
            "width": null,
            "min_width": null,
            "border": null,
            "align_items": null,
            "bottom": null,
            "_model_module": "@jupyter-widgets/base",
            "top": null,
            "grid_column": null,
            "overflow_y": null,
            "overflow_x": null,
            "grid_auto_flow": null,
            "grid_area": null,
            "grid_template_columns": null,
            "flex": null,
            "_model_name": "LayoutModel",
            "justify_items": null,
            "grid_row": null,
            "max_height": null,
            "align_content": null,
            "visibility": null,
            "align_self": null,
            "height": null,
            "min_height": null,
            "padding": null,
            "grid_auto_rows": null,
            "grid_gap": null,
            "max_width": null,
            "order": null,
            "_view_module_version": "1.2.0",
            "grid_template_areas": null,
            "object_position": null,
            "object_fit": null,
            "grid_auto_columns": null,
            "margin": null,
            "display": null,
            "left": null
          }
        },
        "6e4e0d5b8b5345b9b8c1119a1dde6c8b": {
          "model_module": "@jupyter-widgets/controls",
          "model_name": "SliderStyleModel",
          "state": {
            "_view_name": "StyleView",
            "handle_color": null,
            "_model_name": "SliderStyleModel",
            "description_width": "",
            "_view_module": "@jupyter-widgets/base",
            "_model_module_version": "1.5.0",
            "_view_count": null,
            "_view_module_version": "1.2.0",
            "_model_module": "@jupyter-widgets/controls"
          }
        },
        "2435bcf50efb4c5cb8a91fcd53598dfa": {
          "model_module": "@jupyter-widgets/base",
          "model_name": "LayoutModel",
          "state": {
            "_view_name": "LayoutView",
            "grid_template_rows": null,
            "right": null,
            "justify_content": null,
            "_view_module": "@jupyter-widgets/base",
            "overflow": null,
            "_model_module_version": "1.2.0",
            "_view_count": null,
            "flex_flow": null,
            "width": null,
            "min_width": null,
            "border": null,
            "align_items": null,
            "bottom": null,
            "_model_module": "@jupyter-widgets/base",
            "top": null,
            "grid_column": null,
            "overflow_y": null,
            "overflow_x": null,
            "grid_auto_flow": null,
            "grid_area": null,
            "grid_template_columns": null,
            "flex": null,
            "_model_name": "LayoutModel",
            "justify_items": null,
            "grid_row": null,
            "max_height": null,
            "align_content": null,
            "visibility": null,
            "align_self": null,
            "height": null,
            "min_height": null,
            "padding": null,
            "grid_auto_rows": null,
            "grid_gap": null,
            "max_width": null,
            "order": null,
            "_view_module_version": "1.2.0",
            "grid_template_areas": null,
            "object_position": null,
            "object_fit": null,
            "grid_auto_columns": null,
            "margin": null,
            "display": null,
            "left": null
          }
        },
        "ffb95ab85e0347b3ac61d5121ee8c1ae": {
          "model_module": "@jupyter-widgets/base",
          "model_name": "LayoutModel",
          "state": {
            "_view_name": "LayoutView",
            "grid_template_rows": null,
            "right": null,
            "justify_content": null,
            "_view_module": "@jupyter-widgets/base",
            "overflow": null,
            "_model_module_version": "1.2.0",
            "_view_count": null,
            "flex_flow": null,
            "width": null,
            "min_width": null,
            "border": null,
            "align_items": null,
            "bottom": null,
            "_model_module": "@jupyter-widgets/base",
            "top": null,
            "grid_column": null,
            "overflow_y": null,
            "overflow_x": null,
            "grid_auto_flow": null,
            "grid_area": null,
            "grid_template_columns": null,
            "flex": null,
            "_model_name": "LayoutModel",
            "justify_items": null,
            "grid_row": null,
            "max_height": null,
            "align_content": null,
            "visibility": null,
            "align_self": null,
            "height": null,
            "min_height": null,
            "padding": null,
            "grid_auto_rows": null,
            "grid_gap": null,
            "max_width": null,
            "order": null,
            "_view_module_version": "1.2.0",
            "grid_template_areas": null,
            "object_position": null,
            "object_fit": null,
            "grid_auto_columns": null,
            "margin": null,
            "display": null,
            "left": null
          }
        }
      }
    }
  },
  "cells": [
    {
      "cell_type": "markdown",
      "metadata": {
        "id": "EYzh5Fud0h9-",
        "colab_type": "text"
      },
      "source": [
        "# Notes on “Pool Testing Simulation” Article\n",
        "\n",
        "Here is the [article](https://jamanetwork.com/journals/jamanetworkopen/fullarticle/2767513) for these notes."
      ]
    },
    {
      "cell_type": "markdown",
      "metadata": {
        "id": "AOAKWMKs1Ay1",
        "colab_type": "text"
      },
      "source": [
        "# New Section"
      ]
    },
    {
      "cell_type": "markdown",
      "metadata": {
        "id": "wNJUstVg05G2",
        "colab_type": "text"
      },
      "source": [
        "# Notations\n"
      ]
    },
    {
      "cell_type": "markdown",
      "metadata": {
        "id": "Qg-U6LSx64xv",
        "colab_type": "text"
      },
      "source": [
        "## Parameters of the screening test"
      ]
    },
    {
      "cell_type": "markdown",
      "metadata": {
        "colab_type": "text",
        "id": "zyYD22Tp8zmt"
      },
      "source": [
        "$ \\begin{align}\n",
        "\\text{Let } p &= \\text{prevalence} \\\\\n",
        "S_e &= \\text{test sensitivity} \\\\\n",
        "S_p &= \\text{test specificity} \\\\\n",
        "\\end{align} $"
      ]
    },
    {
      "cell_type": "markdown",
      "metadata": {
        "id": "XJ7CDNPc7gfA",
        "colab_type": "text"
      },
      "source": [
        "## **Individual patients**: Joint probability distribution of disease status and test result\n",
        "\n"
      ]
    },
    {
      "cell_type": "markdown",
      "metadata": {
        "id": "QrbsCU58XP_e",
        "colab_type": "text"
      },
      "source": [
        "Let $D = \\text{event that a patient has the disease}$\n",
        "\n",
        "Some cells in the joint distribution for a randomly selected patient can be filled in based on symbols defined above:   \n",
        "\n",
        "|   | $D$ | $\\overline{D}$ \n",
        "| :- | :-: | :-: \n",
        "| Test $+$ve | $p \\cdot S_e$\n",
        "| Test $-$ve |  | $(1-p) \\cdot S_p$ \n",
        "| Total | $p$ | $1-p$   \n",
        "\n",
        "A little algebra after applying the Complement Rule completes the table:  \n",
        "\n",
        "|   | $D$ | $\\overline{D}$ |\n",
        "| :- | :-: | :-: |\n",
        "| Test $+$ve | $p \\cdot S_e$ | $ \\quad (1-p) - (1-p) \\cdot S_p \\\\ = (1-p)(1-S_p) $ |\n",
        "| Test $-$ve | $ \\quad p - p \\cdot S_e \\\\ = p(1-S_e)$ | $(1-p) \\cdot S_p$ |\n",
        "| Total | $p$ | $1-p$ |   "
      ]
    },
    {
      "cell_type": "markdown",
      "metadata": {
        "colab_type": "text",
        "id": "ntthfYp39DYw"
      },
      "source": [
        "## **Pools** of patients: Joint probability distribution of disease status and test result\n",
        "\n"
      ]
    },
    {
      "cell_type": "markdown",
      "metadata": {
        "id": "3eXczBR24Gub",
        "colab_type": "text"
      },
      "source": [
        "$ \\begin{align}\n",
        "D_{pool} &= \\text{event that a pool of } k  \\text{ patient includes at least one with the disease} \\\\\n",
        "P(D_{pool}) \n",
        "  &= 1 - P(\\overline{D_{pool}}) \\\\\n",
        "  &= 1 - P(\\overline{D})^k \\\\\n",
        "  &= 1 - (1-p)^k\n",
        "\\end{align} $  \n",
        "<br>\n",
        "\n",
        "We can get the joint distribution for pools of $k$ patients by substituting $p$ by $1 - (1-p)^k$  in the joint distrbution for individual patients.  \n",
        "\n",
        "|   | $D_{pool}$ | $\\overline{D_{pool}}$ \n",
        "| :- | :-: | :-: \n",
        "| Test $+$ve | $(1 - (1-p)^k) \\cdot S_e$ | $ (1-p)^k \\cdot (1-S_p) $ |\n",
        "| Test $-$ve | $ (1 - (1-p)^k)\\cdot (1-S_e)$ | $(1-p)^k \\cdot S_p$ |\n",
        "| Total | $1 - (1-p)^k$ | $(1-p)^k$    \n",
        "<br>\n",
        "\n",
        "$ \\begin{align}\n",
        "\\text{In pool testing, }\n",
        "P_k &= P(\\text{Test +ve}) \\\\\n",
        "    &= (1 - (1-p)^k) \\cdot S_e + (1-p)^k \\cdot (1-S_p)  \\text{ by adding the cells in the first row}\n",
        "\\end{align} $  \n"
      ]
    },
    {
      "cell_type": "markdown",
      "metadata": {
        "id": "2IjT_NP11PC8",
        "colab_type": "text"
      },
      "source": [
        "# Simulations\n",
        "\n",
        "In these simulations, you can adjust the prevalence of the disease and sensitivity of the test. Be sure to run Setup first."
      ]
    },
    {
      "cell_type": "code",
      "metadata": {
        "id": "VDrg7lOWYA7G",
        "colab_type": "code",
        "cellView": "both",
        "colab": {}
      },
      "source": [
        "#@title Run Setup\n",
        "import math\n",
        "\n",
        "# For plotting\n",
        "%matplotlib notebook\n",
        "from matplotlib import pyplot as plt\n",
        "# import matplotlib.pyplot as plt\n",
        "import numpy as np\n",
        "\n",
        "\n",
        "# For interaction\n",
        "from __future__ import print_function\n",
        "from ipywidgets import interact, interactive, fixed, interact_manual\n",
        "import ipywidgets as widgets\n",
        "\n",
        "# simulation parameter\n",
        "Sp = 1"
      ],
      "execution_count": 1,
      "outputs": []
    },
    {
      "cell_type": "code",
      "metadata": {
        "id": "GZH46BMntXx4",
        "colab_type": "code",
        "cellView": "both",
        "colab": {
          "base_uri": "https://localhost:8080/",
          "height": 465,
          "referenced_widgets": [
            "fa74f28e80224512982b942a77344fb9",
            "cf153b9b0ecf4bd79b691a9ba88d5150",
            "4824774fa1254b54a0cb44fea52d95c8",
            "744b32f2472d4520a10cc22387df0218",
            "078570b2277041068544257193f403b3",
            "e5d5eb1696034fccb5749d171fa986d3",
            "0d100fe5d5a3409e9e5447a260583c51",
            "6e4e0d5b8b5345b9b8c1119a1dde6c8b",
            "2435bcf50efb4c5cb8a91fcd53598dfa",
            "ffb95ab85e0347b3ac61d5121ee8c1ae"
          ]
        },
        "outputId": "25fe54f0-4c77-458b-a7e0-9fba64c73d51"
      },
      "source": [
        "#@title Efficiency Graph\n",
        "print('Slider values are in %.')\n",
        "\n",
        "def Efficiency(prevalence = 0.5, sensitivity = 70):\n",
        "\n",
        "    # Set up graph layout\n",
        "    fig=plt.figure(2)\n",
        "    ax=fig.add_axes([0,0,1,1])\n",
        "    ax.set_title(\"Sensitivity = \" + str(sensitivity)+\"%\")\n",
        "    ax.set_xlabel('k')\n",
        "    ax.set_ylabel('Efficiency')\n",
        "\n",
        "    # Generate (k,y) values; y = Efficiency\n",
        "    k = np.linspace(1, 100, num=100)\n",
        "    prevalence = prevalence / 100\n",
        "    sensitivity = sensitivity / 100\n",
        "    y = 1/k + sensitivity*(1-(1-prevalence)**k) \n",
        "                  \n",
        "    # Find k with best efficiency\n",
        "    y_min = np.amin(y)\n",
        "    result = np.where(y == y_min)\n",
        "    k_min = result[0][0]\n",
        "    print(\"ko =\", k[k_min])\n",
        "\n",
        "    # plot (k,y)\n",
        "    plt.plot(k, y)\n",
        "    plt.plot(k_min, y_min, 'bo')\n",
        "    plt.ylim(0, 1)\n",
        "    plt.show()\n",
        "\n",
        "interactive_plot = interactive(Efficiency, prevalence = (0,40,0.1), sensitivity=(0,100.0,0.1))\n",
        "output = interactive_plot.children[-1]\n",
        "# output.layout.height = '950px'\n",
        "interactive_plot\n",
        "\n"
      ],
      "execution_count": 5,
      "outputs": [
        {
          "output_type": "stream",
          "text": [
            "Slider values are in %.\n"
          ],
          "name": "stdout"
        },
        {
          "output_type": "display_data",
          "data": {
            "application/vnd.jupyter.widget-view+json": {
              "model_id": "fa74f28e80224512982b942a77344fb9",
              "version_minor": 0,
              "version_major": 2
            },
            "text/plain": [
              "interactive(children=(FloatSlider(value=0.5, description='prevalence', max=40.0), FloatSlider(value=70.0, desc…"
            ]
          },
          "metadata": {
            "tags": []
          }
        }
      ]
    },
    {
      "cell_type": "markdown",
      "metadata": {
        "id": "PeMDejaFzxtd",
        "colab_type": "text"
      },
      "source": [
        "# Scratch Space\n"
      ]
    },
    {
      "cell_type": "code",
      "metadata": {
        "id": "U8FUtdMRWsUj",
        "colab_type": "code",
        "colab": {
          "base_uri": "https://localhost:8080/",
          "height": 366
        },
        "outputId": "86198d4c-6a49-4d1f-bcc0-dbccd5cf8da5"
      },
      "source": [
        "# from matplotlib import pyplot as plt\n",
        "# import numpy as np\n",
        "# import math\n",
        "# %matplotlib inline\n",
        "\n",
        "p = 0.02\n",
        "Se = 0.7\n",
        "Sp = 1\n",
        "x=np.arange(1, 100, 1)\n",
        "y= 1/x + Se*(1-(1-p)**x)\n",
        "fig=plt.figure()\n",
        "ax=fig.add_axes([0,0,1,1])\n",
        "ax.plot(x,y, label='p=0.02' )\n",
        "ax.set_title(\"Sensitivity = \" + str(Se))\n",
        "ax.set_xlabel('k')\n",
        "ax.set_ylabel('Efficiency')\n",
        "ax.set_ylim(0,1);\n",
        "\n",
        "p = 0.05\n",
        "y= 1/x + Se*(1-(1-p)**x)\n",
        "ax.plot(x,y, label = 'p=0.05');\n",
        "\n",
        "legend = ax.legend(loc='upper center', shadow=True, fontsize='x-large')"
      ],
      "execution_count": null,
      "outputs": [
        {
          "output_type": "display_data",
          "data": {
            "image/png": "[encoded data removed]",
            "text/plain": [
              "<Figure size 432x288 with 1 Axes>"
            ]
          },
          "metadata": {
            "tags": [],
            "needs_background": "light"
          }
        }
      ]
    }
  ]
}